{
 "cells": [
  {
   "cell_type": "markdown",
   "metadata": {},
   "source": [
    "Question 1"
   ]
  },
  {
   "cell_type": "code",
   "execution_count": 1,
   "metadata": {},
   "outputs": [
    {
     "name": "stdout",
     "output_type": "stream",
     "text": [
      "[19, 19, 20, 22, 24, 24, 24, 25, 25, 26]\n",
      "19 26\n",
      "[19, 19, 20, 22, 24, 24, 24, 25, 25, 26, 19, 26]\n",
      "Median=24.0,Average=22.75,Range=7\n"
     ]
    }
   ],
   "source": [
    "import statistics\n",
    "ages = [19, 22, 19, 24, 20, 25, 26, 24, 25, 24]\n",
    "ages.sort()\n",
    "print(ages)\n",
    "a=min(ages)\n",
    "b=max(ages)\n",
    "print(a,b)\n",
    "ages.append(a)\n",
    "ages.append(b)\n",
    "print(ages)\n",
    "median=statistics.median(ages)#Function median from the library statistics to compute the median of list ages\n",
    "avg=sum(ages)/len(ages)\n",
    "range_ages=b-a\n",
    "print(f\"Median={median},Average={avg},Range={range_ages}\")\n"
   ]
  },
  {
   "cell_type": "markdown",
   "metadata": {},
   "source": [
    "Question 2"
   ]
  },
  {
   "cell_type": "code",
   "execution_count": 2,
   "metadata": {},
   "outputs": [
    {
     "name": "stdout",
     "output_type": "stream",
     "text": [
      "Dog Dict= {'name': 'Jimmy', 'color': 'Black and White', 'breed': 'Husky', 'legs': '3', 'age': '2'}\n",
      "9\n",
      "['C', 'Python'] <class 'list'>\n",
      "['first_name', 'last_name', 'gender', 'age', 'marital_status', 'skills', 'country', 'city', 'address']\n",
      "['Pranav', 'Dokuru', 'Male', '21', 'Single', ['C', 'Python', 'Machine Learning'], 'India', 'Hyd', 'Hyd']\n"
     ]
    }
   ],
   "source": [
    "dog={}\n",
    "dog['name']=\"Jimmy\"\n",
    "dog['color']=\"Black and White\"\n",
    "dog['breed']=\"Husky\"\n",
    "dog['legs']='3'\n",
    "dog['age']='2'\n",
    "print(\"Dog Dict=\",dog)\n",
    "student={\n",
    "    'first_name':'Pranav', 'last_name':'Dokuru', 'gender':'Male', 'age':'21', 'marital_status':'Single',\n",
    "    'skills':['C','Python'], 'country':'India', 'city':'Hyd' , 'address':'Hyd'\n",
    "}\n",
    "print(len(student))\n",
    "print(student['skills'],type(student['skills']))\n",
    "student['skills'].append(\"Machine Learning\")\n",
    "print(list(student.keys()))\n",
    "print(list(student.values()))"
   ]
  },
  {
   "cell_type": "markdown",
   "metadata": {},
   "source": [
    "Question 3"
   ]
  },
  {
   "cell_type": "code",
   "execution_count": 3,
   "metadata": {},
   "outputs": [
    {
     "name": "stdout",
     "output_type": "stream",
     "text": [
      "('Bob', 'Rob', 'kate', 'Fiona') <class 'tuple'>\n",
      "No of siblings= 4\n",
      "('Bob', 'Rob', 'kate', 'Fiona', 'Harry', 'Harriete')\n"
     ]
    }
   ],
   "source": [
    "brothers=(\"Bob\",\"Rob\")\n",
    "sisters=('kate','Fiona')\n",
    "siblings=brothers+sisters\n",
    "print(siblings,type(siblings))\n",
    "print(\"No of siblings=\",len(siblings))\n",
    "family_members=siblings+(\"Harry\",'Harriete')\n",
    "print(family_members)"
   ]
  },
  {
   "cell_type": "markdown",
   "metadata": {},
   "source": [
    "Question 4"
   ]
  },
  {
   "cell_type": "code",
   "execution_count": 4,
   "metadata": {},
   "outputs": [
    {
     "name": "stdout",
     "output_type": "stream",
     "text": [
      "Length of it_companies 7\n",
      "{'Microsoft', 'Oracle', 'Twitter', 'IBM', 'Apple', 'Facebook', 'Netflix', 'Github', 'Google', 'Amazon'}\n",
      "{19, 20, 22, 24, 25, 26, 27, 28}\n",
      "{19, 20, 22, 24, 25, 26}\n",
      "True\n",
      "False\n",
      "A after joining B: {19, 20, 22, 24, 25, 26, 27, 28}\n",
      "B after joining A: {19, 20, 22, 24, 25, 26, 27, 28}\n",
      "Symmetric difference between A and B: set()\n",
      "Length of the list age: 8\n",
      "Length of the set age: 5\n"
     ]
    }
   ],
   "source": [
    "it_companies = {'Facebook', 'Google', 'Microsoft', 'Apple', 'IBM', 'Oracle', 'Amazon'}\n",
    "A = {19, 22, 24, 20, 25, 26}\n",
    "B = {19, 22, 20, 25, 26, 24, 28, 27}\n",
    "age = [22, 19, 24, 25, 26, 24, 25, 24]\n",
    "print(\"Length of it_companies\",len(it_companies))\n",
    "it_companies.add('Twitter')\n",
    "it_companies.update(['Github','Netflix'])\n",
    "print(it_companies)\n",
    "it_companies.remove('Facebook')\n",
    "# remove will raise an error if the element is not found\n",
    "# discard will not raise an error if the element is not found\n",
    "union_set = A.union(B)\n",
    "print( union_set)\n",
    "intersection_set = A.intersection(B)\n",
    "print(intersection_set)\n",
    "subset = A.issubset(B)\n",
    "print(subset)\n",
    "are_disjoint = A.isdisjoint(B)\n",
    "print( are_disjoint)\n",
    "\n",
    "\n",
    "A.update(B)\n",
    "print(\"A after joining B:\", A)\n",
    "B.update(A)\n",
    "print(\"B after joining A:\", B)\n",
    "\n",
    "symmetric_difference = A.symmetric_difference(B)\n",
    "print(\"Symmetric difference between A and B:\", symmetric_difference)\n",
    "\n",
    "del it_companies\n",
    "del A\n",
    "del B\n",
    "\n",
    "age_set = set(age)\n",
    "print(\"Length of the list age:\", len(age))\n",
    "print(\"Length of the set age:\", len(age_set))\n"
   ]
  },
  {
   "cell_type": "markdown",
   "metadata": {},
   "source": [
    "Question 5"
   ]
  },
  {
   "cell_type": "code",
   "execution_count": null,
   "metadata": {},
   "outputs": [
    {
     "name": "stdout",
     "output_type": "stream",
     "text": [
      "Area of the circle: 2827.4333882308138\n",
      "Circumference of the circle: 188.49555921538757\n"
     ]
    }
   ],
   "source": [
    "import math\n",
    "radius = 30\n",
    "area_of_circle = math.pi * (radius ** 2)\n",
    "print(\"Area of the circle:\", area_of_circle)\n",
    "\n",
    "circum_of_circle = 2 * math.pi * radius\n",
    "print(\"Circumference of the circle:\", circum_of_circle)\n",
    "\n",
    "radius1=int(input(\"enter radius\"))\n",
    "area = math.pi * (radius1 ** 2)\n",
    "print(\"Area of the circle with user input radius:\", area)\n"
   ]
  },
  {
   "cell_type": "markdown",
   "metadata": {},
   "source": []
  }
 ],
 "metadata": {
  "kernelspec": {
   "display_name": "Python 3",
   "language": "python",
   "name": "python3"
  },
  "language_info": {
   "codemirror_mode": {
    "name": "ipython",
    "version": 3
   },
   "file_extension": ".py",
   "mimetype": "text/x-python",
   "name": "python",
   "nbconvert_exporter": "python",
   "pygments_lexer": "ipython3",
   "version": "3.12.3"
  }
 },
 "nbformat": 4,
 "nbformat_minor": 2
}

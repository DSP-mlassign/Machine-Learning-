{
  "nbformat": 4,
  "nbformat_minor": 0,
  "metadata": {
    "colab": {
      "provenance": []
    },
    "kernelspec": {
      "name": "python3",
      "display_name": "Python 3"
    },
    "language_info": {
      "name": "python"
    }
  },
  "cells": [
    {
      "cell_type": "code",
      "execution_count": 12,
      "metadata": {
        "colab": {
          "base_uri": "https://localhost:8080/"
        },
        "id": "H62cM5sPMdBQ",
        "outputId": "bf612d27-3d50-44f5-c96c-90b51ecf9212"
      },
      "outputs": [
        {
          "output_type": "stream",
          "name": "stdout",
          "text": [
            "Array Shape: (3, 5)\n",
            "Array before modification:\n",
            " [[10 16 15 20 20]\n",
            " [19  1  9 10 15]\n",
            " [ 3 14 16  7 13]]\n",
            "Modified Array:\n",
            " [[10 16 15  0 20]\n",
            " [ 0  1  9 10 15]\n",
            " [ 3 14  0  7 13]]\n"
          ]
        }
      ],
      "source": [
        "import numpy as np\n",
        "ranvec = np.random.randint(1, 21, size=15)\n",
        "array1 = ranvec.reshape(3, 5)\n",
        "print(\"Array Shape:\", array1.shape)\n",
        "print(\"Array before modification:\\n\", array1)\n",
        "for i in range(array1.shape[0]):\n",
        "    max = array1[i].argmax()\n",
        "    array1[i, max] = 0\n",
        "\n",
        "print(\"Modified Array:\\n\",array1)"
      ]
    },
    {
      "cell_type": "code",
      "source": [
        "array1 = np.random.randint(1, 10, size=(4, 3), dtype=np.int32)\n",
        "print(\"Shape of the array:\", array1.shape)\n",
        "print(\"Type of the array:\", type(array1))\n",
        "print(\"Data type of the array:\", array1.dtype)"
      ],
      "metadata": {
        "colab": {
          "base_uri": "https://localhost:8080/"
        },
        "id": "xnPDfHXzMztp",
        "outputId": "6d6cd8a0-d6f4-44ce-f63f-2d91a0bd1cb6"
      },
      "execution_count": 3,
      "outputs": [
        {
          "output_type": "stream",
          "name": "stdout",
          "text": [
            "Shape of the array: (4, 3)\n",
            "Type of the array: <class 'numpy.ndarray'>\n",
            "Data type of the array: int32\n"
          ]
        }
      ]
    },
    {
      "cell_type": "code",
      "source": [
        "A = np.array([[3, -2], [1, 0]])\n",
        "eigenvalues, eigenvectors = np.linalg.eig(A)\n",
        "print(\"Eigenvalues:\", eigenvalues)\n",
        "print(\"Eigenvectors:\\n\", eigenvectors)"
      ],
      "metadata": {
        "colab": {
          "base_uri": "https://localhost:8080/"
        },
        "id": "a-NfAmUYM5U4",
        "outputId": "ad8588ea-0854-406c-c270-631c92445896"
      },
      "execution_count": 4,
      "outputs": [
        {
          "output_type": "stream",
          "name": "stdout",
          "text": [
            "Eigenvalues: [2. 1.]\n",
            "Eigenvectors:\n",
            " [[0.89442719 0.70710678]\n",
            " [0.4472136  0.70710678]]\n"
          ]
        }
      ]
    },
    {
      "cell_type": "code",
      "source": [
        "array = np.array([[0, 1, 2], [3, 4, 5]])\n",
        "sum = np.trace(array)\n",
        "print(\"Sum of diagonal elements:\", sum)"
      ],
      "metadata": {
        "colab": {
          "base_uri": "https://localhost:8080/"
        },
        "id": "NUlEB75dM9L5",
        "outputId": "de1e57d5-323e-4253-abb3-39e8cc20d06b"
      },
      "execution_count": 7,
      "outputs": [
        {
          "output_type": "stream",
          "name": "stdout",
          "text": [
            "Sum of diagonal elements: 4\n"
          ]
        }
      ]
    },
    {
      "cell_type": "code",
      "source": [
        "original_array = np.array([[1, 2], [3, 4], [5, 6]])\n",
        "reshaped_array = original_array.reshape(2, 3)\n",
        "\n",
        "print(\"Reshaped Array (2x3):\\n\", reshaped_array)"
      ],
      "metadata": {
        "colab": {
          "base_uri": "https://localhost:8080/"
        },
        "id": "RrEnzKPRNA-x",
        "outputId": "dae52696-8df1-4424-b830-331c911ef669"
      },
      "execution_count": 6,
      "outputs": [
        {
          "output_type": "stream",
          "name": "stdout",
          "text": [
            "Reshaped Array (2x3):\n",
            " [[1 2 3]\n",
            " [4 5 6]]\n"
          ]
        }
      ]
    }
  ]
}
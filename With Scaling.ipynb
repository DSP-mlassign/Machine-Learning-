{
  "nbformat": 4,
  "nbformat_minor": 0,
  "metadata": {
    "colab": {
      "provenance": []
    },
    "kernelspec": {
      "name": "python3",
      "display_name": "Python 3"
    },
    "language_info": {
      "name": "python"
    }
  },
  "cells": [
    {
      "cell_type": "code",
      "execution_count": 2,
      "metadata": {
        "colab": {
          "base_uri": "https://localhost:8080/"
        },
        "id": "pSL-ri_893NX",
        "outputId": "e4725587-1466-483e-f919-6c3bae866914"
      },
      "outputs": [
        {
          "output_type": "stream",
          "name": "stdout",
          "text": [
            "Silhouette Score with Scaling + PCA: 0.44905593473903177\n"
          ]
        }
      ],
      "source": [
        "import pandas as pd\n",
        "from sklearn.preprocessing import StandardScaler\n",
        "from sklearn.decomposition import PCA\n",
        "from sklearn.cluster import KMeans\n",
        "from sklearn.metrics import silhouette_score\n",
        "\n",
        "\n",
        "dataset = pd.read_csv('/content/CC GENERAL.csv')\n",
        "\n",
        "dataset = dataset.drop('CUST_ID', axis=1)\n",
        "dataset = dataset.fillna(dataset.mean())\n",
        "\n",
        "\n",
        "scaler = StandardScaler()\n",
        "x_scaled = scaler.fit_transform(dataset)\n",
        "\n",
        "pca = PCA(n_components=2)\n",
        "x_pca_scaled = pca.fit_transform(x_scaled)\n",
        "\n",
        "kmeans = KMeans(n_clusters=3, random_state=42)\n",
        "kmeans_labels_scaled = kmeans.fit_predict(x_pca_scaled)\n",
        "\n",
        "score_scaled = silhouette_score(x_pca_scaled, kmeans_labels_scaled)\n",
        "print(f\"Silhouette Score with Scaling + PCA: {score_scaled}\")\n",
        "\n",
        "\n"
      ]
    }
  ]
}
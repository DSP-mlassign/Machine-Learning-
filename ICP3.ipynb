{
 "cells": [
  {
   "cell_type": "markdown",
   "metadata": {},
   "source": [
    "Question 1"
   ]
  },
  {
   "cell_type": "code",
   "execution_count": 1,
   "metadata": {},
   "outputs": [
    {
     "name": "stdout",
     "output_type": "stream",
     "text": [
      "* \n",
      "* * \n",
      "* * * \n",
      "* * * * \n",
      "* * * * * \n",
      "* * * * \n",
      "* * * \n",
      "* * \n",
      "* \n"
     ]
    }
   ],
   "source": [
    "for i in range(1, 6):\n",
    "    print('* ' * i)\n",
    "for i in range(4, 0, -1):\n",
    "    print('* ' * i)"
   ]
  },
  {
   "cell_type": "markdown",
   "metadata": {},
   "source": [
    "Question 2"
   ]
  },
  {
   "cell_type": "code",
   "execution_count": 2,
   "metadata": {},
   "outputs": [
    {
     "name": "stdout",
     "output_type": "stream",
     "text": [
      " Instance Count:2, Class Count:3\n",
      " Instance Count:3, Class Count:3\n"
     ]
    }
   ],
   "source": [
    "class Counter:\n",
    "    count=0\n",
    "    \n",
    "    def init(self):\n",
    "        self.count=0\n",
    "    def increment(self):\n",
    "        self.count+=1\n",
    "        Counter.count+=1\n",
    "        \n",
    "    def getcount(self):\n",
    "        return f\" Instance Count:{self.count}, Class Count:{Counter.count}\"\n",
    "        \n",
    "\n",
    "a=Counter()\n",
    "b=Counter()\n",
    "\n",
    "a.increment()\n",
    "a.increment()\n",
    "b.increment()\n",
    "\n",
    "print(a.getcount())\n",
    "print(b.getcount())\n"
   ]
  },
  {
   "cell_type": "markdown",
   "metadata": {},
   "source": [
    "Counter.count is a class variable, while self.count is an instance variable.\n",
    "Output: a.getcount() = Instance Count:2, Class Count:3 , b.getcount() = Instance Count:1, Class Count:3.\n",
    "increment() updates both the instance's self.count and the shared Counter.count."
   ]
  },
  {
   "cell_type": "markdown",
   "metadata": {},
   "source": [
    "Question 3"
   ]
  },
  {
   "cell_type": "code",
   "execution_count": 3,
   "metadata": {},
   "outputs": [
    {
     "name": "stdout",
     "output_type": "stream",
     "text": [
      "Sum of 1,2,3 is: 6\n",
      "Sum of 4,5,6,7 is: 22\n"
     ]
    }
   ],
   "source": [
    "def sum_all(args):\n",
    "    return sum(args)\n",
    "    \n",
    "print(\"Sum of 1,2,3 is:\",sum_all([1,2,3]))\n",
    "print(\"Sum of 4,5,6,7 is:\",sum_all([4,5,6,7]))"
   ]
  },
  {
   "cell_type": "markdown",
   "metadata": {},
   "source": [
    "Question 4"
   ]
  },
  {
   "cell_type": "code",
   "execution_count": 2,
   "metadata": {},
   "outputs": [
    {
     "name": "stdout",
     "output_type": "stream",
     "text": [
      "20\n",
      "40\n",
      "60\n",
      "80\n",
      "100\n"
     ]
    }
   ],
   "source": [
    "my_list = [10, 20, 30, 40, 50, 60, 70, 80, 90, 100]\n",
    "\n",
    "for i in range(1, len(my_list), 2):\n",
    "    print(my_list[i])"
   ]
  },
  {
   "cell_type": "markdown",
   "metadata": {},
   "source": [
    "Question 5"
   ]
  },
  {
   "cell_type": "code",
   "execution_count": 3,
   "metadata": {},
   "outputs": [
    {
     "name": "stdout",
     "output_type": "stream",
     "text": [
      "Unique List: [1, 2, 3, 4, 5]\n"
     ]
    }
   ],
   "source": [
    "def unique_set(a):\n",
    "    b=set(a)\n",
    "    b=list(b)\n",
    "    print(\"Unique List:\",b)\n",
    "\n",
    "#or i in range(1):\n",
    "    #a=list((map(int,input(\"Enter elements of list:\").split())))\n",
    "a= [1,2,3,3,3,3,4,5]\n",
    "\n",
    "unique_set(a)"
   ]
  },
  {
   "cell_type": "markdown",
   "metadata": {},
   "source": [
    "Question 6"
   ]
  },
  {
   "cell_type": "code",
   "execution_count": 20,
   "metadata": {},
   "outputs": [
    {
     "name": "stdout",
     "output_type": "stream",
     "text": [
      "Employee Count: 3\n",
      "Average Salary: 60000.0\n",
      "\n",
      "Employee Information:\n",
      "Name: Sam Atkins, Family: Atkins, Salary: 50000, Department: IT\n",
      "Name: John Wick, Family: Wick, Salary: 60000, Department: HR\n",
      "\n",
      "Fulltime Employee Information:\n",
      "Name: Tony Stark, Family: Stark, Salary: 70000, Department: Engineering\n",
      "Benefits: Health Insurance, 401k\n"
     ]
    }
   ],
   "source": [
    "class Employee:\n",
    "    \n",
    "    employee_count = 0\n",
    "    total_salary = 0\n",
    "\n",
    "    def __init__(self, name, family, salary, department):  \n",
    "        self.name = name\n",
    "        self.family = family\n",
    "        self.salary = salary\n",
    "        self.department = department\n",
    "        \n",
    "        \n",
    "        Employee.employee_count += 1\n",
    "        Employee.total_salary += salary\n",
    "\n",
    "    @classmethod  \n",
    "    def average_salary(cls):\n",
    "        if cls.employee_count > 0:\n",
    "            return cls.total_salary / cls.employee_count\n",
    "        return 0\n",
    "\n",
    "    def display_info(self):\n",
    "        print(f\"Name: {self.name}, Family: {self.family}, Salary: {self.salary}, Department: {self.department}\")\n",
    "\n",
    "class FulltimeEmployee(Employee):\n",
    "    def __init__(self, name, family, salary, department, benefits):\n",
    "        super().__init__(name, family, salary, department)\n",
    "        self.benefits = benefits\n",
    "\n",
    "    def display_info(self):\n",
    "        super().display_info()\n",
    "        print(f\"Benefits: {self.benefits}\")\n",
    "\n",
    "emp1 = Employee(\"Sam Atkins\", \"Atkins\", 50000, \"IT\")\n",
    "emp2 = Employee(\"John Wick\", \"Wick\", 60000, \"HR\")\n",
    "\n",
    "ft_emp1 = FulltimeEmployee(\"Tony Stark\", \"Stark\", 70000, \"Engineering\", \"Health Insurance, 401k\")\n",
    "\n",
    "\n",
    "print(\"Employee Count:\", Employee.employee_count)\n",
    "print(\"Average Salary:\", Employee.average_salary())\n",
    "\n",
    "print(\"\\nEmployee Information:\")\n",
    "emp1.display_info()\n",
    "emp2.display_info()\n",
    "\n",
    "print(\"\\nFulltime Employee Information:\")\n",
    "ft_emp1.display_info()\n",
    "\n"
   ]
  }
 ],
 "metadata": {
  "kernelspec": {
   "display_name": "Python 3",
   "language": "python",
   "name": "python3"
  },
  "language_info": {
   "codemirror_mode": {
    "name": "ipython",
    "version": 3
   },
   "file_extension": ".py",
   "mimetype": "text/x-python",
   "name": "python",
   "nbconvert_exporter": "python",
   "pygments_lexer": "ipython3",
   "version": "3.12.3"
  }
 },
 "nbformat": 4,
 "nbformat_minor": 2
}

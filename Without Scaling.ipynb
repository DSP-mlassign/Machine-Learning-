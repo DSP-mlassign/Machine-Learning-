{
  "nbformat": 4,
  "nbformat_minor": 0,
  "metadata": {
    "colab": {
      "provenance": []
    },
    "kernelspec": {
      "name": "python3",
      "display_name": "Python 3"
    },
    "language_info": {
      "name": "python"
    }
  },
  "cells": [
    {
      "cell_type": "code",
      "execution_count": 3,
      "metadata": {
        "colab": {
          "base_uri": "https://localhost:8080/"
        },
        "id": "pSL-ri_893NX",
        "outputId": "9a501101-90f9-413e-ef99-d7915b3b0346"
      },
      "outputs": [
        {
          "output_type": "stream",
          "name": "stdout",
          "text": [
            "Silhouette Score without Scaling: 0.5720155554021095\n"
          ]
        }
      ],
      "source": [
        "import pandas as pd\n",
        "from sklearn.preprocessing import StandardScaler\n",
        "from sklearn.decomposition import PCA\n",
        "from sklearn.cluster import KMeans\n",
        "from sklearn.metrics import silhouette_score\n",
        "\n",
        "\n",
        "dataset = pd.read_csv('/content/CC GENERAL.csv')\n",
        "\n",
        "dataset = dataset.drop('CUST_ID', axis=1)\n",
        "dataset = dataset.fillna(dataset.mean())\n",
        "\n",
        "\n",
        "pca = PCA(n_components=2)\n",
        "x_pca = pca.fit_transform(dataset)\n",
        "\n",
        "kmeans = KMeans(n_clusters=3, random_state=42)\n",
        "kmeans_labels = kmeans.fit_predict(x_pca)\n",
        "\n",
        "score = silhouette_score(x_pca, kmeans_labels)\n",
        "print(f\"Silhouette Score without Scaling: {score}\")\n",
        "\n",
        "\n",
        "\n"
      ]
    }
  ]
}